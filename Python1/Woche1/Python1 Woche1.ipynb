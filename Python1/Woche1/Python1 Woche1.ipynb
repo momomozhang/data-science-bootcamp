{
 "cells": [
  {
   "cell_type": "code",
   "execution_count": 1,
   "id": "bc83d4d8-0594-46c9-849f-4285bbb0324e",
   "metadata": {},
   "outputs": [
    {
     "name": "stdout",
     "output_type": "stream",
     "text": [
      "Fat\n"
     ]
    }
   ],
   "source": [
    "print(\"Fat\")"
   ]
  },
  {
   "cell_type": "code",
   "execution_count": null,
   "id": "4bdeca47-00a1-414d-a730-4289bae9e8fb",
   "metadata": {},
   "outputs": [],
   "source": []
  }
 ],
 "metadata": {
  "kernelspec": {
   "display_name": "Python [conda env:base] *",
   "language": "python",
   "name": "conda-base-py"
  },
  "language_info": {
   "codemirror_mode": {
    "name": "ipython",
    "version": 3
   },
   "file_extension": ".py",
   "mimetype": "text/x-python",
   "name": "python",
   "nbconvert_exporter": "python",
   "pygments_lexer": "ipython3",
   "version": "3.12.2"
  }
 },
 "nbformat": 4,
 "nbformat_minor": 5
}
