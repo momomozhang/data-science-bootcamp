{
 "cells": [
  {
   "attachments": {
    "image.png": {
     "image/png": "[encoded data removed]"
    }
   },
   "cell_type": "markdown",
   "id": "7f747d3f",
   "metadata": {},
   "source": [
    "![image.png](attachment:image.png)"
   ]
  },
  {
   "cell_type": "markdown",
   "id": "15ffb192",
   "metadata": {},
   "source": [
    "# Inhaltsverzeichnis \n",
    "\n",
    "- **Wörterbücher (Dictionaries)**\n",
    "    - **Wörterbuch erzeugen**\n",
    "    - **Auf Elemente zugreifen**\n",
    "    - **Schlüssel hinzufügen**\n",
    "    - **Schlüssel löschen**\n",
    "    - **Schlüssel abfragen**\n",
    "    - **Werte abfragen**\n",
    "    - **Schlüssel und Wert abfragen**\n",
    "    - **Wörterbuch leeren**\n"
   ]
  },
  {
   "cell_type": "markdown",
   "id": "efa0d9b5",
   "metadata": {},
   "source": [
    "# Wörterbücher (Dictionaries)\n",
    "\n",
    "Wörterbücher (Dictionaries) in Python werden verwendet um Daten in sogenannten \"**Key-Value**\"-Paaren zu speichern. Unter jedem Schlüssel (Key) wird ein Wert (Value) gespeichert, ähnlich einem Wörterbuch.\n",
    "Die Schlüssel sind meistens Strings, die Werte können beliebig sein.\n",
    "\n",
    "***\n",
    "## Wörterbuch erzeugen\n",
    "\n",
    "Wörterbücher werden in Python durch geschwungene Klammern `{}` erzeugt. Der Key und sein Wert werden durch einen Doppelpunkt getrennt:"
   ]
  },
  {
   "cell_type": "code",
   "execution_count": null,
   "id": "54c60bcc",
   "metadata": {},
   "outputs": [],
   "source": [
    "my_dict = {\"key1\": 100, \n",
    "           \"key2\": \"Apples\"}\n",
    "\n",
    "print(my_dict)"
   ]
  },
  {
   "cell_type": "markdown",
   "id": "3bfb1555",
   "metadata": {},
   "source": [
    "Sind wir uns nicht über den Typen sicher, können wir uns wie gewohnt den Typen über den Befehl `type()` ausgeben lassen:"
   ]
  },
  {
   "cell_type": "code",
   "execution_count": null,
   "id": "b5f51f5f",
   "metadata": {},
   "outputs": [],
   "source": [
    "print(type(my_dict))"
   ]
  },
  {
   "cell_type": "markdown",
   "id": "43e7a6af",
   "metadata": {},
   "source": [
    "Da der Datentyp eines Wertes in Python beliebig sein kann, können wir auch Wörterbücher verschachteln, d.h. der Wert unter einem Schlüssel, kann wieder ein Dictionary sein. \n",
    "\n",
    "> <span style=\"color:red\"> **_WICHTIG:_** </span> Obwohl es theoretisch möglich ist Dictionaries zu verschachteln, ist davon abzuraten, da der Code bei einer tiefen Schachtelung deutlich kompliziert werden kann. Oft bieten sich andere Datentypen (oder eigene Klassen, dazu später mehr) an, um die Daten zu strukturieren.\n",
    "\n",
    "Im folgenden Beispiel wird ein Kunde in das Wörterbuch mit den Schlüsseln `Name`, `Alter` und `Adresse` angelegt. Der Wert der Adresse ist wiederum ein **Dictionary** mit den Schlüsseln `Stadt` und `Land`."
   ]
  },
  {
   "cell_type": "code",
   "execution_count": null,
   "id": "598fac46",
   "metadata": {},
   "outputs": [],
   "source": [
    "kunde = {\"Name\"   : \"Paul\", \n",
    "         \"Alter\"  : 30, \n",
    "         \"Adresse\": {\"Stadt\": \"Berlin\",\n",
    "                     \"Land\" : \"Deutschland\"} }"
   ]
  },
  {
   "cell_type": "markdown",
   "id": "9a204465",
   "metadata": {},
   "source": [
    "***\n",
    "## Auf Elemente zugreifen\n",
    "\n",
    "Wir können auf Elemente des Wörterbuchs zugreifen über den Namen des Keys in eckigen Klammern `[]`. Wie wir in der letzten Zeile sehen können, funktioniert dies auch bei verschachtelten Wörterbüchern."
   ]
  },
  {
   "cell_type": "code",
   "execution_count": null,
   "id": "781d5861",
   "metadata": {},
   "outputs": [],
   "source": [
    "print(kunde[\"Name\"]) \n",
    "print(kunde[\"Adresse\"])\n",
    "print(kunde[\"Adresse\"][\"Stadt\"])"
   ]
  },
  {
   "cell_type": "markdown",
   "id": "5a71b019",
   "metadata": {},
   "source": [
    "> <span style=\"color:red\"> **_WICHTIG:_** </span> Wenn wir auf einen Schlüssel zugreifen, der nicht existiert, bekommen wir eine Fehlermeldung.\n",
    "\n",
    "Der Key `name` existiert nicht. In Python ist Groß- und Kleinschreibung zu beachten!"
   ]
  },
  {
   "cell_type": "code",
   "execution_count": null,
   "id": "e626ba9d",
   "metadata": {},
   "outputs": [],
   "source": [
    "print(kunde[\"name\"])"
   ]
  },
  {
   "cell_type": "markdown",
   "id": "722354f2",
   "metadata": {},
   "source": [
    "***\n",
    "## Schlüssel hinzufügen\n",
    "\n",
    "Wie wir oben gesehen haben, wird ein Fehler beim Zugriff auf undefinierten Schlüsseln geliefert. Wir schauen uns jetzt an, wie man einen Schlüssel ins Wörterbuch hinzufügt. Das kann man in Python leicht wie bei Variablen durch eine Zuweisung machen."
   ]
  },
  {
   "cell_type": "code",
   "execution_count": null,
   "id": "5e3acdaa",
   "metadata": {},
   "outputs": [],
   "source": [
    "kunde[\"name\"] = \"paul\"\n",
    "\n",
    "print(kunde)"
   ]
  },
  {
   "cell_type": "markdown",
   "id": "91efab1e",
   "metadata": {},
   "source": [
    "Beachte dabei, dass wenn der Schlüsselname vorhanden ist, wird kein neuer erstellt, sonder der alte Wert überschreiben. "
   ]
  },
  {
   "cell_type": "code",
   "execution_count": null,
   "id": "a8eb2054",
   "metadata": {},
   "outputs": [],
   "source": [
    "kunde[\"Alter\"] = 35\n",
    "\n",
    "print(kunde)"
   ]
  },
  {
   "cell_type": "markdown",
   "id": "c8e7dc97",
   "metadata": {},
   "source": [
    "***\n",
    "## Schlüssel löschen\n",
    "\n",
    "Wenn man einen Schlüssel löschen möchte, kann man die Methode `my_dict.pop(key)` nutzen."
   ]
  },
  {
   "cell_type": "code",
   "execution_count": null,
   "id": "0b4dc501",
   "metadata": {},
   "outputs": [],
   "source": [
    "kunde.pop(\"name\")"
   ]
  },
  {
   "cell_type": "markdown",
   "id": "adf9fede",
   "metadata": {},
   "source": [
    "***\n",
    "## Schlüssel abfragen\n",
    "\n",
    "Mittels dem Befehl `my_dict.keys()` können wir uns die Schlüssel des Wörterbuchs `my_dict` anzeigen lassen. Dies ist besonders nützlich, wenn wir das Wörterbuch nicht selbst erzeugt haben und uns interessiert, welche Schlüssel wir ansprechen können. Wir werden später sehen, dass wir das Ergebnis in einer `For`-Schleife verwenden können."
   ]
  },
  {
   "cell_type": "code",
   "execution_count": null,
   "id": "a9ad755e",
   "metadata": {
    "scrolled": true
   },
   "outputs": [],
   "source": [
    "print(type(kunde.keys()))\n",
    "\n",
    "#Etwas Zukunftsmusik, wir iterieren über alle Schlüssel\n",
    "#und geben sie uns auf dem Bildschirm aus\n",
    "for key in kunde.keys():\n",
    "    print(\"Dictionary hat Schlüssel\", key)"
   ]
  },
  {
   "cell_type": "markdown",
   "id": "e60a9d0a",
   "metadata": {},
   "source": [
    "Für den Anfang können wir das Ergebnis auch in einen uns bekannten Datentypen umwandeln, eine **Liste** mit der Hilfe von `list()`:"
   ]
  },
  {
   "cell_type": "code",
   "execution_count": null,
   "id": "86967412",
   "metadata": {},
   "outputs": [],
   "source": [
    "keys_as_list = list(kunde.keys())\n",
    "print(keys_as_list)"
   ]
  },
  {
   "cell_type": "markdown",
   "id": "328bac12",
   "metadata": {},
   "source": [
    "> <span style=\"color:green\"> **_ERINNERUNG:_** </span> **Listen** werden mit eckigen Klammern als `[value1, value2, ...]` und **Wörterbücher** mit geschwungenen Klammern als `{key1: value1, key2: value2, ...}` geschrieben."
   ]
  },
  {
   "cell_type": "markdown",
   "id": "9c9d467a",
   "metadata": {},
   "source": [
    "***\n",
    "## Werte abfragen\n",
    "\n",
    "Mit dem Befehl `my_dict.values()` können wir uns die Werte des Wörterbuchs `my_dict` anzeigen lassen. Dies können wir auch in eine Liste umwandeln."
   ]
  },
  {
   "cell_type": "code",
   "execution_count": null,
   "id": "3ae28512",
   "metadata": {},
   "outputs": [],
   "source": [
    "values_as_list = list(kunde.values())\n",
    "print(values_as_list)"
   ]
  },
  {
   "cell_type": "markdown",
   "id": "4c02ea8a",
   "metadata": {},
   "source": [
    "***\n",
    "## Schlüssel und Wert abfragen \n",
    "\n",
    "Auf ähnliche Weise können wir stattdessen das ganze Paar als Tupel abfragen. Das machen wir über den Befehl\n",
    "`my_dict.items()`"
   ]
  },
  {
   "cell_type": "code",
   "execution_count": null,
   "id": "0887f07c",
   "metadata": {},
   "outputs": [],
   "source": [
    "print(kunde.items())"
   ]
  },
  {
   "cell_type": "markdown",
   "id": "71a75305",
   "metadata": {},
   "source": [
    "Auch hier werden wir später feststellen, das wir das Ergebnis sehr angenehm in einer Schleife verwenden können. Die nächste Zelle gibt alle Schlüssel und die dazugehörigen Werte aus:"
   ]
  },
  {
   "cell_type": "code",
   "execution_count": null,
   "id": "4248da55",
   "metadata": {},
   "outputs": [],
   "source": [
    "for (key, value) in kunde.items():\n",
    "    print(\"Der Schlüssel\", key, \"hat den Wert\", value)"
   ]
  },
  {
   "cell_type": "markdown",
   "id": "117c1833",
   "metadata": {},
   "source": [
    "***\n",
    "## Wörterbuch leeren\n",
    "\n",
    "Mit dem Befehl `my_dict.clear()` können wir ein Wörterbuch `my_dict` leeren."
   ]
  },
  {
   "cell_type": "code",
   "execution_count": null,
   "id": "fd01aadc",
   "metadata": {},
   "outputs": [],
   "source": [
    "kunde.clear()\n",
    "print(kunde)"
   ]
  },
  {
   "cell_type": "markdown",
   "id": "45fd1556",
   "metadata": {},
   "source": [
    "Den gleichen Effekt haben wir auch über den Befehl `kunde = {}`, der ein neues leeres Wörterbuch der Variable zuweist."
   ]
  }
 ],
 "metadata": {
  "kernelspec": {
   "display_name": "Python 3 (ipykernel)",
   "language": "python",
   "name": "python3"
  },
  "language_info": {
   "codemirror_mode": {
    "name": "ipython",
    "version": 3
   },
   "file_extension": ".py",
   "mimetype": "text/x-python",
   "name": "python",
   "nbconvert_exporter": "python",
   "pygments_lexer": "ipython3",
   "version": "3.8.10"
  }
 },
 "nbformat": 4,
 "nbformat_minor": 5
}
