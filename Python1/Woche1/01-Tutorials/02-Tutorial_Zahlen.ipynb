{
 "cells": [
  {
   "attachments": {
    "image.png": {
     "image/png": "[encoded data removed]"
    }
   },
   "cell_type": "markdown",
   "id": "fa0275a7",
   "metadata": {},
   "source": [
    "![image.png](attachment:image.png)"
   ]
  },
  {
   "cell_type": "markdown",
   "id": "23385ba0",
   "metadata": {},
   "source": [
    "# Inhaltsverzeichnis \n",
    "\n",
    "- **Zahlen mit Python**\n",
    "    - **Integers**\n",
    "        - **Modulo Operator (`%`)**\n",
    "        - **Potenzoperator (`**`)**\n",
    "        - **Zur Reihenfolge mathematischer Operationen**\n",
    "    - **Floats**\n",
    "        - **Modulo Operator (`%`)**\n",
    "        - **Abgerundete Division (*//*)**\n",
    "    - **Syntaktischer Zucker**\n",
    "        - **Beispiele**\n"
   ]
  },
  {
   "cell_type": "markdown",
   "id": "3122511c",
   "metadata": {},
   "source": [
    "# Zahlen mit Python"
   ]
  },
  {
   "cell_type": "markdown",
   "id": "692a9885",
   "metadata": {},
   "source": [
    "\n",
    "Python ist eine Programmiersprache, die Zahlen als grundlegende Datentypen unterstützt. Es gibt zwei Haupttypen von Zahlen in Python: Ganzzahlen (Integers) und Fließkommazahlen (Floats).\n",
    "\n",
    "- **Integers** (Ganze Zahlen)\n",
    "- **Floats** (Gleitkommazahlen)\n",
    "\n",
    "Ein weiterer Zahlentyp, der von Python angeboten wird, sind die [komplexen Zahlen](https://de.wikipedia.org/wiki/Komplexe_Zahl). Komplexe Zahlen werden durch den Datentyp \"complex\" dargestellt und können direkt in Python-Code geschrieben werden, z.B. `2+3j`.\n",
    "\n",
    "Auf diese wollen wir hier jedoch nicht weiter eingehen. Komplexe Zahlen werden wir im Kurs _nicht_ benötigen.\n",
    "\n",
    "\n",
    "\n",
    "\n",
    "***\n",
    "## Integers\n",
    "\n",
    "Ganzzahlen sind ganze Zahlen ohne Dezimalstellen und können positiv, negativ oder null sein. Sie können direkt in Python-Code geschrieben werden, z.B. 42 oder -17. Ganzzahlen werden in Python durch den Datentyp \"int\" dargestellt.\n",
    "\n",
    "Integers entsprechen den ganzen Zahlen ohne Dezimalstellen und können positiv, negativ oder null sein, d.h.\n",
    "\n",
    "\\begin{align}\n",
    "\\dots,-3,-2,1,0,1,2,\\dots\n",
    "\\end{align}\n",
    "\n",
    "\n",
    "In Python können wir mit Integers rechnen, wie wir es gewohnt sind. Unter anderem stehen uns die Grundrechenarten\n",
    "\n",
    "- Addieren (`+`)\n",
    "- Subtrahieren (`-`)\n",
    "- Multiplizieren (`*`)\n",
    "- Dividieren (`/`)\n",
    "\n",
    "zur Verfügung.\n",
    "\n",
    "**Beispiele:**"
   ]
  },
  {
   "cell_type": "code",
   "execution_count": null,
   "id": "98d12e4c",
   "metadata": {},
   "outputs": [],
   "source": [
    "print(6 + 3)\n",
    "print(6 - 3)\n",
    "print(6 * 5)\n",
    "print(18 / 3)"
   ]
  },
  {
   "cell_type": "markdown",
   "id": "e8dd7619",
   "metadata": {},
   "source": [
    "Auch für Zahlen - wie für jede andere Variable - können wir uns über den Befehl `type()` den Datentyp angeben lassen\n",
    "\n",
    "> <span style=\"color:blue\"> **_INFO:_** </span> **Integer** haben den Typen `int`."
   ]
  },
  {
   "cell_type": "code",
   "execution_count": null,
   "id": "732c839b",
   "metadata": {},
   "outputs": [],
   "source": [
    "type(3)"
   ]
  },
  {
   "cell_type": "markdown",
   "id": "66dce464",
   "metadata": {},
   "source": [
    "Neben den Grundrechenarten - die wir vermutlich am häufigsten benötigen werden - stehen noch weitere Rechenoperationen zur Verfügung. Auf diese wollen wir im folgenden eingehen.\n",
    "\n",
    "***\n",
    "### Modulo Operator (`%`)\n",
    "\n",
    "\n",
    "\n",
    "Über den Modulo Operator können wir uns den Rest bei einer Division ausgeben lassen. In Python hat dieser Operator das Symbol `%` (Prozentzeichen).\n",
    "\n",
    "Das Ergebnis der folgenden Zelle ist 1, denn $6/5 = 1 \\; \\text{Rest} \\; \\textbf{1}$.\n"
   ]
  },
  {
   "cell_type": "code",
   "execution_count": null,
   "id": "db450086",
   "metadata": {},
   "outputs": [],
   "source": [
    "6 % 5   "
   ]
  },
  {
   "cell_type": "markdown",
   "id": "99d5ab50",
   "metadata": {},
   "source": [
    "Das Ergebnis von $ 6 \\% 3 = 0$, denn $ 6 / 3 = 2 \\; \\text{Rest} \\; \\textbf{0}$ "
   ]
  },
  {
   "cell_type": "code",
   "execution_count": null,
   "id": "5d20146c",
   "metadata": {},
   "outputs": [],
   "source": [
    "6 % 3"
   ]
  },
  {
   "cell_type": "markdown",
   "id": "a71635ea",
   "metadata": {},
   "source": [
    "> <span style=\"color:red\"> **_WICHTIG:_** </span> So können wir übrigens feststellen, ob eine Zahl $x$ ohne Rest teilbar ist durch eine Zahl $y$. Das ist genau dann der Fall, wenn \n",
    "\n",
    "\\begin{align}\n",
    "x \\% y = 0 \\quad \\text{(Kein Rest!)}\n",
    "\\end{align}"
   ]
  },
  {
   "cell_type": "markdown",
   "id": "b10142c8",
   "metadata": {},
   "source": [
    "***\n",
    "### Potenzoperator (`**`)\n",
    "\n",
    "\n",
    "Häufig wollen wir eine Multiplikation öfters ausführen, dafür müssen wir Zahlen potenzieren:\n",
    "\n",
    "\\begin{align}\n",
    "         2^n=  \\underbrace{2 \\cdot 2 \\cdot 2}_{n-mal}&&\n",
    "\\end{align}\n",
    "\n",
    "Z.B.\n",
    "\\begin{align*}\n",
    "        2^4 = 2\\cdot 2\\cdot 2\\cdot 2&&\n",
    "\\end{align*}\n",
    "\n",
    "Dafür gibt es den Potenzoperator (`**`) in Python:"
   ]
  },
  {
   "cell_type": "code",
   "execution_count": null,
   "id": "bc573c05",
   "metadata": {},
   "outputs": [],
   "source": [
    "2 ** 4"
   ]
  },
  {
   "cell_type": "markdown",
   "id": "d3492d6e",
   "metadata": {},
   "source": [
    "Im Gegensatz zu vielen anderen Sprachen kann Python mit (fast) beliebig großen Zahlen rechnen:"
   ]
  },
  {
   "cell_type": "code",
   "execution_count": null,
   "id": "1b9f3636",
   "metadata": {},
   "outputs": [],
   "source": [
    "2 ** 700"
   ]
  },
  {
   "cell_type": "code",
   "execution_count": null,
   "id": "31141ac7",
   "metadata": {},
   "outputs": [],
   "source": [
    "2 ** 10000"
   ]
  },
  {
   "cell_type": "markdown",
   "id": "caddc060",
   "metadata": {},
   "source": [
    "> <span style=\"color:green\"> **_ERINNERUNG:_** </span> Eine Wurzel kann als eine Potenzzahl durch ihre Inverse geschrieben werden. Eine Quadratwurzel ist gleich mit der Zahl hoch $\\frac{1}{2}$,d.h. \n",
    "\\begin{align}\n",
    "\\sqrt{x} = x^{\\frac{1}{2}}\n",
    "\\end{align}\n",
    "**Beispiel:**"
   ]
  },
  {
   "cell_type": "code",
   "execution_count": null,
   "id": "6fcf4afa",
   "metadata": {},
   "outputs": [],
   "source": [
    "16 ** .5"
   ]
  },
  {
   "cell_type": "markdown",
   "id": "9a6e0d58",
   "metadata": {},
   "source": [
    "***\n",
    "### Zur Reihenfolge mathematischer Operationen\n",
    "\n",
    "Sollten wir einen längeren Ausdruck ausrechnen wollen, müssen wir wissen, dass Python sich an die mathematischen Regeln hält: **Es gilt Punkt vor Strich!**"
   ]
  },
  {
   "cell_type": "code",
   "execution_count": null,
   "id": "bad5581d",
   "metadata": {},
   "outputs": [],
   "source": [
    "2 + 3 * 10 - 5    # Es wird zuerst 3*10 berechnet"
   ]
  },
  {
   "cell_type": "markdown",
   "id": "32a486a6",
   "metadata": {},
   "source": [
    "Wollen wir eine andere Reihenfolge, müssen wir Klammern setzen:"
   ]
  },
  {
   "cell_type": "code",
   "execution_count": null,
   "id": "1a5e2cf9",
   "metadata": {},
   "outputs": [],
   "source": [
    "(2 + 3) * 10 - 5  # Hier wird als erstes 2+3 berechnet"
   ]
  },
  {
   "cell_type": "markdown",
   "id": "8c215064",
   "metadata": {},
   "source": [
    "***\n",
    "## Floats\n",
    "\n",
    "\n",
    "\n",
    "\n",
    "\n",
    "Fließkommazahlen (<i>engl.: floating-point numbers</i> / <i>floats</i>) sind Zahlen mit Dezimalstellen und können ebenfalls positiv, negativ oder null sein. Floats werden verwendet um Zahlen mit Nachkommastellen zu repräsentieren. Mögliche Floats sind daher z.B.\n",
    "\n",
    "\\begin{align}\n",
    "2.71,\\; 3.14, \\;0.2,\\; -123.2, \\;\\dots\n",
    "\\end{align}\n",
    "\n",
    "> <span style=\"color:red\"> **_WICHTIG:_** </span> Das Komma wird - wie im Englischen üblich - durch einen Punkt `.` repräsentiert.\n",
    "\n",
    "Auch bei den Floats stehen uns die Grundrechenarten\n",
    "\n",
    "- Addieren (`+`)\n",
    "- Subtrahieren (`-`)\n",
    "- Multiplizieren (`*`)\n",
    "- Dividieren (`/`)\n",
    "\n",
    "zur Verfügung. \n",
    "\n",
    "**Beispiele:**\n"
   ]
  },
  {
   "cell_type": "code",
   "execution_count": null,
   "id": "6abaeb9c",
   "metadata": {},
   "outputs": [],
   "source": [
    "print(3.5 + 3.2)"
   ]
  },
  {
   "cell_type": "code",
   "execution_count": null,
   "id": "15149fa8",
   "metadata": {},
   "outputs": [],
   "source": [
    "print(3.2 - 2.7)"
   ]
  },
  {
   "cell_type": "code",
   "execution_count": null,
   "id": "b97e6627",
   "metadata": {},
   "outputs": [],
   "source": [
    "print(2.5 * 2.6)"
   ]
  },
  {
   "cell_type": "code",
   "execution_count": null,
   "id": "4287662b",
   "metadata": {},
   "outputs": [],
   "source": [
    "print(2.5 / 0.5)"
   ]
  },
  {
   "cell_type": "markdown",
   "id": "4bd5dfaa",
   "metadata": {},
   "source": [
    "Über `type()` können wir uns wieder den Datentypen einer Zahl ausgeben lassen:\n",
    "> <span style=\"color:blue\"> **_INFO:_** </span> **Floats** haben den Typen `float`."
   ]
  },
  {
   "cell_type": "code",
   "execution_count": null,
   "id": "cbb0b127",
   "metadata": {},
   "outputs": [],
   "source": [
    "type(2.3)"
   ]
  },
  {
   "cell_type": "markdown",
   "id": "dc07097b",
   "metadata": {},
   "source": [
    "Praktischerweise können wir in Python auch eine ganze Zahl (Integer) mit einer Fließkommazahl (Float) addieren. Das Ergebnis ist **immer** eine Fließkommazahl!"
   ]
  },
  {
   "cell_type": "code",
   "execution_count": null,
   "id": "ab02f16c",
   "metadata": {},
   "outputs": [],
   "source": [
    "print(3.2 + 4.5)\n",
    "print(type(3.2 + 4.5))"
   ]
  },
  {
   "cell_type": "code",
   "execution_count": null,
   "id": "29c7c873",
   "metadata": {},
   "outputs": [],
   "source": [
    "print(5.0 + 2)\n",
    "print(type(5.0 + 2))"
   ]
  },
  {
   "cell_type": "markdown",
   "id": "0463fe97",
   "metadata": {},
   "source": [
    "Wir sehen in der obigen Zelle, dass eine Zahl auch dann ein Float ist, wenn die Nachkommastelle eine 0 ist. Das Entscheidende ist das Komma (bzw. der Punkt)!\n",
    "\n",
    "Vergleiche z.B. mit folgender Zelle:"
   ]
  },
  {
   "cell_type": "code",
   "execution_count": null,
   "id": "1705c67c",
   "metadata": {},
   "outputs": [],
   "source": [
    "print(5+2)\n",
    "print(type(5+2))"
   ]
  },
  {
   "cell_type": "markdown",
   "id": "dbe83590",
   "metadata": {},
   "source": [
    "### Modulo Operator (`%`)\n",
    "\n",
    "Analog zu den ganzen Zahlen, können wir uns den Rest einer Division wieder über den Modulo Operator `%` ausgeben lassen:\n",
    "\n"
   ]
  },
  {
   "cell_type": "code",
   "execution_count": null,
   "id": "ab19d008",
   "metadata": {},
   "outputs": [],
   "source": [
    "2.5 % 2"
   ]
  },
  {
   "cell_type": "markdown",
   "id": "4e1b39c6",
   "metadata": {},
   "source": [
    "### Abgerundete Division (*//*)\n",
    "\n",
    "Wollen wir, dass das Ergebnis einer Division ein Integer ist, können wir abgerundet dividieren. Das Ergebnis wird damit automatisch zur nächsten ganzen Zahl abgerundet.\n",
    "\n",
    "**Beispiele:**"
   ]
  },
  {
   "cell_type": "code",
   "execution_count": null,
   "id": "a9ed5014",
   "metadata": {},
   "outputs": [],
   "source": [
    "print(5 // 2)\n",
    "print(type(5 // 2))"
   ]
  },
  {
   "cell_type": "code",
   "execution_count": null,
   "id": "f2c17d62",
   "metadata": {},
   "outputs": [],
   "source": [
    "print(10 / 3)\n",
    "print(10 // 3)"
   ]
  },
  {
   "cell_type": "markdown",
   "id": "ecd2b6cc",
   "metadata": {},
   "source": [
    "***\n",
    "## Syntaktischer Zucker\n",
    "\n",
    "Häufig wollen wir auf eine Zahl einen festen Betrag addieren.\n",
    "Es kommt z.B. öfters vor, dass wir eine Variable definieren, die ein Ereignis mitzählt (\"Wie oft wurde geklickt?\", \"Wie viele Dateien sind vorhanden?\"). <br> Das heißt, wir haben z.B. eine Variable `counter`, deren Wert wir bei gewissen Ereignissen um $1$ vergrößeren wollen. Dies machen wir durch folgende Zeile:"
   ]
  },
  {
   "cell_type": "code",
   "execution_count": 1,
   "id": "644ed632",
   "metadata": {},
   "outputs": [
    {
     "name": "stdout",
     "output_type": "stream",
     "text": [
      "1\n"
     ]
    }
   ],
   "source": [
    "counter = 0\n",
    "counter = counter + 1  # Der neue Wert von counter ist der alte Wert um 1 erhöht  \n",
    "print(counter)"
   ]
  },
  {
   "cell_type": "markdown",
   "id": "04bf285a",
   "metadata": {},
   "source": [
    "Dies funktioniert ohne Probleme.\n",
    "\n",
    "Da diese Art von Rechnung in der Praxis häufiger vorkommt, gibt es in Python eine Notation, die uns Tipparbeit spart.\n",
    "<br>\n",
    "Folgende Symbole sind dafür definiert:\n",
    "\n",
    "\n",
    "- `+=` : Addiert zur linken Seite den Wert auf der rechten Seite\n",
    "- `-=` : Subtrahiert zur linken Seite den Wert auf der rechten Seite\n",
    "- `*=` : Multipliziert zur linken Seite den Wert auf der rechten Seite\n",
    "- `/=` : Dividiert die linke Seite mit dem Wert auf der rechten Seite\n",
    "\n",
    "Der Gebrauch ist eine reine Frage des Geschmacks; beide Versionen sind komplett äquivalent. Der Vorteil ist, dass wir weniger schreiben müssen. Man spricht hier von [**syntaktischem Zucker**](https://de.wikipedia.org/wiki/Syntaktischer_Zucker). \n",
    "Syntaktischer Zucker (engl. Syntactic sugar) ist ein Begriff aus der Informatik und bezieht sich auf eine bestimmte Art von Sprachkonstruktionen in Programmiersprachen. Es handelt sich dabei um eine Syntax, die speziell dazu entwickelt wurde, häufig verwendete und repetitive Konstruktionen (wie die obige) in einer Programmiersprache auf eine kürzere, intuitivere und leichter les- und schreibbare Weise auszudrücken.\n",
    "\n",
    "\n",
    "Die obigen Symbole fügen Python keine neue Funktionalität hinzu, sondern nur eine neue Syntax.\n",
    "\n",
    "### Beispiele"
   ]
  },
  {
   "cell_type": "code",
   "execution_count": null,
   "id": "bba98fb1",
   "metadata": {},
   "outputs": [],
   "source": [
    "x = 0\n",
    "x += 1     # x = x + 1 \n",
    "print(x)"
   ]
  },
  {
   "cell_type": "code",
   "execution_count": null,
   "id": "004870ab",
   "metadata": {},
   "outputs": [],
   "source": [
    "z = 2\n",
    "z *= 10    # z = z * 10\n",
    "print(z)"
   ]
  },
  {
   "cell_type": "code",
   "execution_count": null,
   "id": "55856bba",
   "metadata": {},
   "outputs": [],
   "source": [
    "y = 24\n",
    "y /= 12    # y = y / 12\n",
    "print(y)"
   ]
  }
 ],
 "metadata": {
  "kernelspec": {
   "display_name": "Python [conda env:base] *",
   "language": "python",
   "name": "conda-base-py"
  },
  "language_info": {
   "codemirror_mode": {
    "name": "ipython",
    "version": 3
   },
   "file_extension": ".py",
   "mimetype": "text/x-python",
   "name": "python",
   "nbconvert_exporter": "python",
   "pygments_lexer": "ipython3",
   "version": "3.12.2"
  }
 },
 "nbformat": 4,
 "nbformat_minor": 5
}
