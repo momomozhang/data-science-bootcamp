{
 "cells": [
  {
   "cell_type": "markdown",
   "id": "1a29d9b4",
   "metadata": {},
   "source": [
    "![image info](https://drive.google.com/uc?id=1AerT9299ijreLjEeIoGLv6SoT-SFC6-m)"
   ]
  },
  {
   "cell_type": "markdown",
   "id": "cb1df6e1",
   "metadata": {},
   "source": [
    "# Inhaltsverzeichnis \n",
    "\n",
    "- **Strings (Zeichenketten)**\n",
    "    - **Zugriff auf Elemente eines Strings**\n",
    "        - **Indexing**\n",
    "        - **Slicing**\n",
    "    - **Länge eines Strings**\n",
    "    - **Strings sind unveränderlich**\n",
    "    - **Strings addieren und multiplizieren**\n",
    "    - **Nützliche Funktionen für Strings**\n",
    "        - **In Groß- bzw. Kleinbuchstaben umwandeln**\n",
    "        - **Einen String trennen (splitten)**\n",
    "        - **Einen (Sub)-String finden**\n"
   ]
  },
  {
   "cell_type": "markdown",
   "id": "31feb29e",
   "metadata": {},
   "source": [
    "# Strings (Zeichenketten)\n",
    "\n",
    "Der Datentyp **String**, häufig als `str` abgekürzt, wird verwendet um Zeichenketten (oder auch nur einzelne Buchstaben) zu repräsentieren.\n",
    "Wir erzeugen Strings entweder durch einfache Anführungszeichen `''` oder doppelte Anführungszeichen `\"\"`.\n",
    "Zwischen diese Anführungszeichen schreiben wir die gewünschte Zeichenkette.\n",
    "\n",
    "**Beispiel:**"
   ]
  },
  {
   "cell_type": "code",
   "execution_count": 15,
   "id": "8159fe0f",
   "metadata": {},
   "outputs": [],
   "source": [
    "text1 = \"Ein erster Satz.\"   # Speichert einen String in der Variablen text1\n",
    "text2 = 'Noch ein Satz.'\n",
    "text3 = \"Er hat 'Noch ein Satz' gesagt.\""
   ]
  },
  {
   "cell_type": "markdown",
   "id": "4eebfdfa",
   "metadata": {},
   "source": [
    "## Zugriff auf Elemente eines Strings \n",
    "In Python kann auf einzelne Elemente eines Strings über Indexing und Slicing zugegriffen werden. Slicing ist ein wichtiges Thema und wird uns im Verlauf des Kurses noch öfters beschäftigen. \n",
    "Ein String ist im Prinzip ein Array (in Python: eine Liste) und jeder Buchstabe besitzt einen Index. Der String `\"Hallo Welt!\"` sieht so aus:\n",
    "\n",
    "\\begin{array}{p{2cm} c|c|c|c|c|c|c|c|c|c|c|}\n",
    "   String: & H & a & l & l & o & & W & e & l & t & ! \\\\\n",
    "   \\hline\n",
    "   Index: & 0 & 1 & 2 & 3 & 4 & 5 & 6 & 7 & 8 & 9 & 10 \n",
    "  \\end{array} \n",
    "\n",
    "> <span style=\"color:red\"> **_WICHTIG:_** </span> Der erste Index in Python ist **immer** 0. <br>\n",
    "> <span style=\"color:red\"> **_WICHTIG:_** </span> Wir sehen oben, dass Python nicht zwischen einem Buchstaben und dem Leerzeichen unterscheidet.\n",
    "\n",
    "### Indexing\n",
    "\n",
    "Wir können nun über die Indizes auf die einzelnen Buchstaben zugreifen. \n",
    "Im folgenden Beispiel wird ein String definiert, in der Variablen `name` gespeichert und danach der erste Buchstabe (Index 0) ausgegeben:"
   ]
  },
  {
   "cell_type": "code",
   "execution_count": 16,
   "id": "d16c1c24",
   "metadata": {},
   "outputs": [
    {
     "name": "stdout",
     "output_type": "stream",
     "text": [
      "p\n"
     ]
    }
   ],
   "source": [
    "name = \"python\"\n",
    "print(name[0])"
   ]
  },
  {
   "cell_type": "markdown",
   "id": "82948f1e",
   "metadata": {},
   "source": [
    "### Slicing\n",
    "\n",
    "Mit **Slicing** können wir gleichzeitig auf mehrere Elemente eines Strings zugreifen. Slicing ist ein mächtiges Werkzeug, das uns im Verlauf des Kurses noch häufiger begegnen wird, insbesondere wenn wir uns mit Listen beschäftigen.\n",
    "\n",
    "\n",
    "- `my_string[start:stop]`      $\\Longrightarrow$ Gibt die Elemente von Index start bis stop-1 zurück.\n",
    "- `my_string[start:stop:step]` $\\Longrightarrow$ Gibt Elemente von start bis stop-1 in Schritten von step zurück.\n",
    "- `my_string[start:]`          $\\Longrightarrow$ Gibt die Elemente von Index start bis zum Ende des Strings zurück.\n",
    "- `my_string[:stop]`           $\\Longrightarrow$ Gibt die Elemente vom Anfang des Strings bis zu Index stop zurück.\n",
    "- `my_string[:]`               $\\Longrightarrow$ Gibt den kompletten String zurück.\n",
    "- `my_string[-1]`              $\\Longrightarrow$ Gibt das letzte Element des Strings zurück.\n",
    "- `my_string[-2]`              $\\Longrightarrow$ Gibt das vorletzte Element des Strings zurück usw.\n",
    "- `my_string[::step]`          $\\Longrightarrow$ Gibt jeden step-ten Buchstaben des gesamten Strings zurück.\n",
    "\n",
    "**Einige Beispiele:**"
   ]
  },
  {
   "cell_type": "code",
   "execution_count": 20,
   "id": "9aeb042f",
   "metadata": {},
   "outputs": [
    {
     "name": "stdout",
     "output_type": "stream",
     "text": [
      "ist\n",
      "iten ä\n",
      "es ist eine längerer Text.\n",
      "Dies\n",
      "D  enee\n",
      "Dies ist eine längerer Text.\n",
      ".\n",
      "t\n",
      ".txeT reregnäl enie tsi seiD\n"
     ]
    }
   ],
   "source": [
    "my_string = \"Dies ist eine längerer Text.\"\n",
    "\n",
    "print(my_string[5:8])    # Gibt einen Teil des Strings aus (Indizes: 5, 6 und 7)\n",
    "print(my_string[5:16:2]) # Gibt einen Teil des Strings aus in 2er-Schritten (Indizes: 5, 7, 9, 11, 13, 15)\n",
    "print(my_string[2:])     # String von Index 2 bis zum Ende\n",
    "print(my_string[:4])     # String vom Anfang bis Index 3\n",
    "print(my_string[::4])    # Von Anfang bis Ende, aber nur jedes vierte Zeichen\n",
    "print(my_string[:])      # Der ganze String\n",
    "print(my_string[-1])     # Das letzte Zeichen\n",
    "print(my_string[-2])     # Das vorletze Zeichen\n",
    "print(my_string[::-1])   # Jedes Zeichen, rückwärts"
   ]
  },
  {
   "cell_type": "markdown",
   "id": "3493d753",
   "metadata": {},
   "source": [
    "***\n",
    "## Länge eines Strings\n",
    "\n",
    "Wir können  uns die Anzahl der Elemente, die Länge (Englisch: **len**gth), eines Strings `s` ausgeben lassen über den Befehl `len(string)`."
   ]
  },
  {
   "cell_type": "code",
   "execution_count": 5,
   "id": "4889b03c",
   "metadata": {},
   "outputs": [
    {
     "name": "stdout",
     "output_type": "stream",
     "text": [
      "Der String my_string ist 44 Zeichen lang.\n"
     ]
    }
   ],
   "source": [
    "my_string = \"Dieser Satz ist recht lang. Wie lang ist er?\"\n",
    "print(\"Der String my_string ist\", len(my_string), \"Zeichen lang.\")"
   ]
  },
  {
   "cell_type": "markdown",
   "id": "3d5be35f",
   "metadata": {},
   "source": [
    "***\n",
    "## Strings sind unveränderlich\n",
    "\n",
    "Die einzelnen Elemente eines Strings sind unveränderlich (**immutable**), das heißt, wir können Strings nach ihrer Erstellung nicht mehr verändern. Versuchen wir beispielsweise, den ersten Buchstaben einer Variable auf \"P\" zu ändern, erhalten wir einen Fehler:"
   ]
  },
  {
   "cell_type": "code",
   "execution_count": 6,
   "id": "3b743e94",
   "metadata": {},
   "outputs": [
    {
     "ename": "TypeError",
     "evalue": "'str' object does not support item assignment",
     "output_type": "error",
     "traceback": [
      "\u001b[0;31m---------------------------------------------------------------------------\u001b[0m",
      "\u001b[0;31mTypeError\u001b[0m                                 Traceback (most recent call last)",
      "Cell \u001b[0;32mIn[6], line 2\u001b[0m\n\u001b[1;32m      1\u001b[0m name \u001b[38;5;241m=\u001b[39m \u001b[38;5;124m\"\u001b[39m\u001b[38;5;124mpython\u001b[39m\u001b[38;5;124m\"\u001b[39m\n\u001b[0;32m----> 2\u001b[0m \u001b[43mname\u001b[49m\u001b[43m[\u001b[49m\u001b[38;5;241;43m0\u001b[39;49m\u001b[43m]\u001b[49m \u001b[38;5;241m=\u001b[39m \u001b[38;5;124m\"\u001b[39m\u001b[38;5;124mP\u001b[39m\u001b[38;5;124m\"\u001b[39m\n",
      "\u001b[0;31mTypeError\u001b[0m: 'str' object does not support item assignment"
     ]
    }
   ],
   "source": [
    "name = \"python\"\n",
    "name[0] = \"P\""
   ]
  },
  {
   "cell_type": "markdown",
   "id": "afc98a33",
   "metadata": {},
   "source": [
    "***\n",
    "**Wie ist es möglich den ersten Buchstaben zu ändern?**<br><br>\n",
    "Strings können mit dem `+`-Zeichen \"addiert\" werden. Diesen Vorgang bezeichnen wir auch als **Konkatenation** oder **Verkettung**. \n",
    "<br>Zusammen mit Slicing lässt sich so der erste Buchstabe ändern. Man beachte, dass wir im nächsten Beispiel den gesamten Inhalt der Variablen `name` ändern und nicht nur ein Element innerhalb der Variablen (wie im vorherigen Beispiel gezeigt):"
   ]
  },
  {
   "cell_type": "code",
   "execution_count": null,
   "id": "2902a9b3",
   "metadata": {},
   "outputs": [],
   "source": [
    "name = \"P\" + name[1:]\n",
    "#Der Wert ist nun 'P' gefolgt von 'ython' aus dem string 'python'.\n",
    "print(name)"
   ]
  },
  {
   "cell_type": "markdown",
   "id": "f1e6eaa9",
   "metadata": {},
   "source": [
    "## Strings \"addieren\" und \"multiplizieren\"\n",
    "\n",
    "Wie wir gesehen haben, lassen sich mit dem `+`-Zeichen Strings aneinanderreihen:"
   ]
  },
  {
   "cell_type": "code",
   "execution_count": null,
   "id": "14bf6555",
   "metadata": {},
   "outputs": [],
   "source": [
    "string1 = \"Hallo\"\n",
    "string2 = \"Welt\"\n",
    "\n",
    "print(string1, string2)\n",
    "print(string1 + \" \" + string2)"
   ]
  },
  {
   "cell_type": "markdown",
   "id": "eee22c0d",
   "metadata": {},
   "source": [
    "Genauso können wir Strings mit einer ganzen Zahl (**Integer**) multiplizieren. Das Ergebnis ist eine Wiederholung des ursprünglichen Strings:"
   ]
  },
  {
   "cell_type": "code",
   "execution_count": null,
   "id": "13c06df7",
   "metadata": {},
   "outputs": [],
   "source": [
    "my_string = \"Test\"\n",
    "print(my_string * 10)"
   ]
  },
  {
   "cell_type": "markdown",
   "id": "0003e95b",
   "metadata": {},
   "source": [
    "> <span style=\"color:red\"> **_WICHTIG:_** </span> Wir können Strings **nicht** mit Zahlen addieren, wir müssen dazu vorher die Zahl in einen String umwandeln!\n",
    "\n",
    "Das folgende Beispiel liefert einen Fehler. "
   ]
  },
  {
   "cell_type": "code",
   "execution_count": null,
   "id": "d5addb85",
   "metadata": {},
   "outputs": [],
   "source": [
    "my_string = \"Die Temperatur heute liegt bei \"\n",
    "print(my_string + 20)"
   ]
  },
  {
   "cell_type": "markdown",
   "id": "d66dc39e",
   "metadata": {},
   "source": [
    "Die Pythonfunktion `str(a)` wandelt eine Variable `a` in einen String um (falls möglich). Dadurch können wir die gewünschte Ausgabe erzeugen:"
   ]
  },
  {
   "cell_type": "code",
   "execution_count": null,
   "id": "c53b4162",
   "metadata": {},
   "outputs": [],
   "source": [
    "my_string = \"Die Temperatur heute liegt bei \"\n",
    "print(my_string + str(20))"
   ]
  },
  {
   "cell_type": "markdown",
   "id": "23398fce",
   "metadata": {},
   "source": [
    "***\n",
    "## Nützliche Funktionen für Strings\n",
    "\n",
    "Jeder Datentyp in Python (wie String, Integer, Floats etc.) besitzt eingebaute Funktionen, mit denen wir die Daten manipulieren können. Dies gilt auch für Strings. Im Folgenden wollen wir einige nützliche Funktionen von Strings betrachten. Um eine Funktion auszuführen, verwenden wir den Punkt-Operator. Dabei schreiben wir den Namen unserer Variablen, gefolgt von einem Punkt und dann dem Namen der Funktion, zum Beispiel:\n",
    "\n",
    "> `my_string.upper()`\n",
    "\n",
    "Dies ruft die Funktion `upper()` für den String `my_string`. Funktionen erkennen wir an den runden Klammern `()`. Einige Funktionen erfordern Parameter, die wir in die Klammern schreiben. In späteren Lektionen werden wir lernen, wie wir unsere eigenen Funktionen schreiben können.\n",
    "\n",
    "\n",
    "### In Groß- bzw. Kleinbuchstaben umwandeln\n",
    "\n",
    "Mit den Funktionen\n",
    "`upper()` bzw. `lower()` können wir einen String in Groß- bzw. Kleinbuchstaben umwandeln.\n",
    "\n",
    "> <span style=\"color:red\"> **_WICHTIG:_** </span> Das Ergebnis dieser Operationen ist ein neuer String. Der ursprüngliche String wird **nicht** verändert. Wenn wir mit dem Ergebnis weiterarbeiten möchten, müssen wir es in einer Variablen speichern!\n",
    "\n",
    "**Beispiele:**"
   ]
  },
  {
   "cell_type": "code",
   "execution_count": null,
   "id": "1bdabb4d",
   "metadata": {},
   "outputs": [],
   "source": [
    "my_string = \"Hello World\"             # Speichert den Text \"Hello World!\" in der Variable my_string\n",
    "my_string_upper = my_string.upper()   # Speichert den großgeschriebenen String in der Variablen my_string_upper\n",
    "my_string_lower = my_string.lower()   # Analog wie oben, nur kleingeschrieben\n",
    "\n",
    "print(\"my_string:\", my_string)\n",
    "print(\"my_string_upper:\",my_string_upper)\n",
    "print(\"my_string_lower:\",my_string_lower)\n",
    "\n",
    "# Beachte, dass der ursprüngliche Wert von my_string NICHT geändert wurde!"
   ]
  },
  {
   "cell_type": "markdown",
   "id": "44a5af8b",
   "metadata": {},
   "source": [
    "### Einen String trennen (splitten)\n",
    "\n",
    "Wir können einen String anhand vordefinierten Zeichen trennen mithilfe der Funktion\n",
    "\n",
    "> `split(element)`\n",
    "\n",
    "Hierbei müssen wir den Parameter `element` übergeben. `element` muss vom Datentyp **String** sein. \n",
    "Dieser Befehl trennt einen String immer dann, wenn er das Zeichen `element` findet. Wenn wir keinen Wert für `element` übergeben, wird standardmäßig an **Leerzeichen** getrennt.<br>\n",
    "Das Ergebnis dieser Operation ist eine **Liste**. Auf Listen werden wir später im Kurs noch ausführlicher eingehen.\n",
    "\n",
    "**Beispiele:**"
   ]
  },
  {
   "cell_type": "code",
   "execution_count": null,
   "id": "eb4ddc88",
   "metadata": {},
   "outputs": [],
   "source": [
    "# Die Farben im String sind durch ein Semikolon getrennt.\n",
    "\n",
    "colors = \"Blue;Black;Red;Pink;Yellow\"\n",
    "\n",
    "print(colors.split(';'))"
   ]
  },
  {
   "cell_type": "code",
   "execution_count": null,
   "id": "7605f506",
   "metadata": {},
   "outputs": [],
   "source": [
    "# Wenn kein Parameter angeben wird, wird die Trennung an Leerzeichen durchgeführt.\n",
    "\n",
    "string = \"Ein langer Satz getrennt durch Leerzeichen.\"\n",
    "\n",
    "print(string.split())"
   ]
  },
  {
   "cell_type": "code",
   "execution_count": null,
   "id": "d31032bb",
   "metadata": {},
   "outputs": [],
   "source": [
    "names = \"Paul und Sabrina und Fritz und Claudia\"\n",
    "\n",
    "print(names.split(\" und \"))"
   ]
  },
  {
   "cell_type": "markdown",
   "id": "9816b4e8",
   "metadata": {},
   "source": [
    "### Einen (Sub)-String finden\n",
    "\n",
    "Häufig möchten wir *innerhalb* eines Strings einen anderen String suchen. Dazu können wir die Methode\n",
    "\n",
    "> `find(search_string, start=0, end=len(string))`\n",
    "\n",
    "\n",
    "eines Strings aufrufen. Diese Methode akzeptiert die folgenden Parameter: \n",
    "\n",
    "\n",
    "**Parameter:**\n",
    "\n",
    "- `search_string`: Ein String, nach dem gesucht werden soll.\n",
    "- `start`: Ein Integer, der den Startindex angibt, ab dem die Suche beginnen soll (optional)\n",
    "- `end`: Ein Integer, der den Endindex angibt, bis zu dem die Suche durchgeführt werden soll (optional)\n",
    "\n",
    "\n",
    "Diese Methode sucht innerhalb des Strings, der die Methode aufruft, nach dem String `search_string`. Die Suche erfolgt zwischen dem Index `start` und `end`. \n",
    "Wenn die Parameter `start` und `end` nicht explizit angegeben werden, nutzt Python die Standardwerte von `0` bzw. `len(string)`, was bedeutet, dass ohne spezifizierte Werte die Suche im gesamten String erfolgt.<br><br>\n",
    "Das Ergebnis der Suche ist der Index, an dem `search_string` zum ersten Mal gefunden wird. Falls `search_string` im durchsuchten Bereich nicht vorhanden ist, gibt die Methode `-1` zurück.\n",
    "\n",
    "**Beispiele:**\n",
    "\n"
   ]
  },
  {
   "cell_type": "code",
   "execution_count": null,
   "id": "250e5152",
   "metadata": {},
   "outputs": [],
   "source": [
    "string_1 = \"Ein Satz bestehend aus mehreren Wörtern. Dies ist der zweite Satz.\"\n",
    "string_2 = \"Satz\"\n",
    "\n",
    "result = string_1.find(string_2)\n",
    "\n",
    "print(\"Das erste Erscheinen des Wortes '\" + string_2 + \"' ist bei Index\", result)"
   ]
  },
  {
   "cell_type": "markdown",
   "id": "b07c8b14",
   "metadata": {},
   "source": [
    "Wir können uns so z.B. den ersten Satz ausgeben lassen. Wir müssen dazu den Index des ersten Punktes `.` suchen und den Satz bis zu diesem Index ausgeben lassen:"
   ]
  },
  {
   "cell_type": "code",
   "execution_count": null,
   "id": "41a973b3",
   "metadata": {},
   "outputs": [],
   "source": [
    "index_punkt = string_1.find(\".\")  # Finde den Index des ersten Punktes\n",
    "print(string_1[:index_punkt])     # Gib alle Zeichen BIS zu diesem Index aus"
   ]
  },
  {
   "cell_type": "markdown",
   "id": "88c49ebc",
   "metadata": {},
   "source": [
    "Hier haben wir schon ein komplexeres Beispiel. Wir verwenden das Ergebnis von `find` beim Slicing in der nächsten Zeile."
   ]
  },
  {
   "cell_type": "markdown",
   "id": "bb80a28d",
   "metadata": {},
   "source": [
    "Wir können zudem den genauen Bereich angeben, in welchem wir nach dem Teilstring suchen wollen.<br>Im folgenden Beispiel wollen wir nach dem Teilstring \"BC\" im String \"ABABCABABABC\" suchen. <br>Hier die Darstellung von \"ABABCABABABC\" mit Indizes:\n",
    "\n",
    "\\begin{array}{p{2cm} c|c|c|c|c|c|c|c|c|c|c|}\n",
    "   String: & A & B & A & B & C & A & B & A & B & A & B & C \\\\\n",
    "   \\hline\n",
    "   Index: & 0 & 1 & 2 & 3 & 4 & 5 & 6 & 7 & 8 & 9 & 10 & 11\n",
    "  \\end{array} "
   ]
  },
  {
   "cell_type": "code",
   "execution_count": null,
   "id": "423141eb",
   "metadata": {},
   "outputs": [],
   "source": [
    "string = \"ABABCABABABC\"\n",
    "\n",
    "# Suche das erste Auftreten von \"BC\" in string\n",
    "print(string.find(\"BC\"))     \n",
    "\n",
    "# Suche den String \"BC\" in string, aber erste ab dem 5ten Index.\n",
    "print(string.find(\"BC\",5))   \n",
    "\n",
    "# Suche den String \"BC\" in string, aber zwischen Index 4 und Index 8.\n",
    "print(string.find(\"BC\",4,8)) "
   ]
  },
  {
   "cell_type": "markdown",
   "id": "419ada66",
   "metadata": {},
   "source": [
    "Strings verfügen über eine Vielzahl weiterer Funktionen, doch die bisher vorgestellten Methoden sollten als solide Grundlage ausreichen. Im weiteren Verlauf des Kurses werden wir uns mit zusätzlichen Funktionen vertraut machen."
   ]
  }
 ],
 "metadata": {
  "kernelspec": {
   "display_name": "Python 3 (ipykernel)",
   "language": "python",
   "name": "python3"
  },
  "language_info": {
   "codemirror_mode": {
    "name": "ipython",
    "version": 3
   },
   "file_extension": ".py",
   "mimetype": "text/x-python",
   "name": "python",
   "nbconvert_exporter": "python",
   "pygments_lexer": "ipython3",
   "version": "3.9.6"
  }
 },
 "nbformat": 4,
 "nbformat_minor": 5
}
