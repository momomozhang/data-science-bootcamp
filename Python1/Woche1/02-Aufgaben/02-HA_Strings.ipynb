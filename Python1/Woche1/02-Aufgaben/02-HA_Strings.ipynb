{
 "cells": [
  {
   "attachments": {
    "image.png": {
     "image/png": "[encoded data removed]"
    }
   },
   "cell_type": "markdown",
   "id": "4780465a",
   "metadata": {},
   "source": [
    "![image.png](attachment:image.png)"
   ]
  },
  {
   "cell_type": "markdown",
   "id": "7670e5c7",
   "metadata": {},
   "source": [
    "# Aufgaben - Strings"
   ]
  },
  {
   "cell_type": "markdown",
   "id": "f926a631",
   "metadata": {},
   "source": [
    "# Inhaltsverzeichnis \n",
    "\n",
    "- **Übungen**\n",
    "    - **Aufgabe 1 - Länge eines Strings**\n",
    "    - **Aufgabe 2 - Effiziente String-Erzeugung**\n",
    "    - **Aufgabe 3 - Wortanzahl ermitteln**\n",
    "    - **Aufgabe 4 - String-Slicing**\n",
    "    - **Aufgabe 5 - String-Konkatenation**\n"
   ]
  },
  {
   "cell_type": "markdown",
   "id": "8b5349cc",
   "metadata": {},
   "source": [
    "## Aufgabe 1 - Länge eines Strings\n",
    "\n",
    "Was ist die Länge des Strings `my_string`? \n",
    "\n",
    "- Verwende die Funktion `len()`. \n",
    "- Lass dir die Länge des Strings mittels `print()` ausgeben."
   ]
  },
  {
   "cell_type": "code",
   "execution_count": null,
   "id": "3a27afef",
   "metadata": {},
   "outputs": [],
   "source": [
    "# Lass diese Zelle unverändert. Führe sie nur aus, in dem du auf die Zelle klickst und dann Shift+Enter drückst. \n",
    "my_string = \"Strings in Python sind gar nicht so schwer!\""
   ]
  },
  {
   "cell_type": "code",
   "execution_count": null,
   "id": "bafa3bce",
   "metadata": {},
   "outputs": [],
   "source": [
    "# Schreibe deinen Code hier\n",
    "\n"
   ]
  },
  {
   "cell_type": "markdown",
   "id": "87c146aa",
   "metadata": {},
   "source": [
    "## Aufgabe 2 - Effiziente String-Erzeugung\n",
    "\n",
    "Erzeuge einen String, der aus 20 `\"A\"`s gefolgt von 20 `\"B\"`s besteht.\n",
    "\n",
    "- Finde einen Weg, den geforderten String mit so wenig Tipparbeit wie möglich zu erzeugen.\n",
    "- Speichere den String in der Variablen `ab_string` ab.\n",
    "- Nutze `print()` für deine Ausgabe"
   ]
  },
  {
   "cell_type": "code",
   "execution_count": null,
   "id": "49f9e8cd",
   "metadata": {},
   "outputs": [],
   "source": [
    "# Schreibe deinen Code hier\n",
    "\n"
   ]
  },
  {
   "cell_type": "markdown",
   "id": "9f5e5825",
   "metadata": {},
   "source": [
    "## Aufgabe 3 - Wortanzahl ermitteln\n",
    "\n",
    "**Aufgabenstellung:** Bestimme die Anzahl der Wörter in einem Satz, der in der Variable `sentence` gespeichert ist. Nutze dazu die Methoden `split()` zum Aufteilen des Satzes in Wörter und `len()` zur Ermittlung der Anzahl dieser Wörter.\n",
    "\n",
    "**Hinweise:**\n",
    "- `split()` teilt einen String an Leerzeichen und gibt eine Liste zurück.\n",
    "- `len()` gibt die Länge einer Liste an, also hier die Wortanzahl.\n",
    "- Speicher dein Ergebnis in der Variablen `word_count`\n",
    "-  Gib, wie immer, dein Ergebnis mithilfe der `print()`-Funktion aus. <br>Wir werden dies ab jetzt nicht mehr gesondert erwähnen. \n"
   ]
  },
  {
   "cell_type": "code",
   "execution_count": null,
   "id": "af77bf97",
   "metadata": {},
   "outputs": [],
   "source": [
    "# Lass diese Zelle unverändert. Führe sie nur aus, in dem du auf die Zelle klickst und dann Shift+Enter drückst. \n",
    "sentence = \" Mit der .strip()-Methode entfernst du Leerzeichen am Anfang und am Ende eines Strings. \"\n"
   ]
  },
  {
   "cell_type": "code",
   "execution_count": null,
   "id": "95e75557",
   "metadata": {},
   "outputs": [],
   "source": [
    "# Schreibe deinen Code hier\n",
    "\n"
   ]
  },
  {
   "cell_type": "markdown",
   "id": "38c4a912",
   "metadata": {},
   "source": [
    "## Aufgabe 4 - Slicing in Python\n",
    "\n",
    "- Extrahiere die ersten drei Zeichen der Strings `my_string1` und `my_string2`.\n",
    "- Bestimme jeweils die letzten drei Zeichen mit negativen Indizes.\n",
    "- Gib jeweils jedes dritte Zeichen aus, beginnend mit dem ersten.\n",
    "\n",
    "**<u>Hinweis:</u>** Merke, wie einfach du manchmal die deutsche Sprache direkt in Python übertragen kannst."
   ]
  },
  {
   "cell_type": "code",
   "execution_count": null,
   "id": "e1724906",
   "metadata": {},
   "outputs": [],
   "source": [
    "# Lass diese Zelle unverändert. Führe sie nur aus, in dem du auf die Zelle klickst und dann Shift+Enter drückst. \n",
    "my_string1 = \"M@nic9t`H UDLXOil/sJ:t5`e^tnT\\\\ 3FffNuLOnr<keatyFi;Mo2ZnGViW_e.3rrft~n f%dQ;iI?eB=s=I bXg~ma\\\\9nZ#zg; +@ä==h<-n$xlxDi#>cYqh?Q.\"\n",
    "my_string2 = \"S_qt'Ar:\\\\i}_nzHgc3sAc :8iU\\\\n5z [\\\\PY|yxqt\\\\,h$2oi}n}W -Js.Iiuan#|dDf Xwüf=bhErGXiXDgsneC>nc>s_Q DiuSSnL3v$.eF3rrSä`bndudK}eXLrjElw(iqkc0Oh!q 4>(j5i^lmkBmEgu:LtO8atGbdkl<qenr)<N.\"\n"
   ]
  },
  {
   "cell_type": "code",
   "execution_count": null,
   "id": "58b19061",
   "metadata": {},
   "outputs": [],
   "source": [
    "# Schreibe deinen Code hier\n",
    "\n"
   ]
  },
  {
   "cell_type": "markdown",
   "id": "6633f0f5",
   "metadata": {},
   "source": [
    "## Aufgabe 5 - String-Verkettung\n",
    "\n",
    "- Erstelle zwei Strings, `string1` mit dem Wert `\"Data\"` und `string2` mit dem Wert `\"Analytics\"`.\n",
    "- Verkette `string1` und `string2` zu einem neuen String ohne Trennzeichen.\n",
    "- Verkette `string1` und `string2` zu einem neuen String, wobei zwischen den beiden Strings ein Leerzeichen steht.\n",
    "- Erstelle einen neuen String, der aus dem zweiten Zeichen von `string1` und dem drittletzten Zeichen von `string2` zusammengesetzt ist.\n",
    "\n",
    "**Hinweise:** \n",
    "- Probiere dich nah an der deutschen Sprache zu halten und vermeide umständliches Abzählen.\n",
    "- Man nennt die Verkettung von Strings auch <strong>Konkatenation</strong>."
   ]
  },
  {
   "cell_type": "code",
   "execution_count": null,
   "id": "6d02bf98",
   "metadata": {},
   "outputs": [],
   "source": [
    "# Schreibe deinen Code hier\n",
    "\n"
   ]
  }
 ],
 "metadata": {
  "kernelspec": {
   "display_name": "Python 3 (ipykernel)",
   "language": "python",
   "name": "python3"
  },
  "language_info": {
   "codemirror_mode": {
    "name": "ipython",
    "version": 3
   },
   "file_extension": ".py",
   "mimetype": "text/x-python",
   "name": "python",
   "nbconvert_exporter": "python",
   "pygments_lexer": "ipython3",
   "version": "3.11.5"
  }
 },
 "nbformat": 4,
 "nbformat_minor": 5
}
