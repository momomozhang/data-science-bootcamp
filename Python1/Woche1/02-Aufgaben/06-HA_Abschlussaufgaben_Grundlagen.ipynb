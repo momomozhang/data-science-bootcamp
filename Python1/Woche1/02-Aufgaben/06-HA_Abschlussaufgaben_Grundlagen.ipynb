{
 "cells": [
  {
   "attachments": {
    "image.png": {
     "image/png": "[encoded data removed]"
    }
   },
   "cell_type": "markdown",
   "id": "adc5ccb1",
   "metadata": {},
   "source": [
    "![image.png](attachment:image.png)"
   ]
  },
  {
   "cell_type": "markdown",
   "id": "a1a5ef1b",
   "metadata": {},
   "source": [
    "# Abschlussaufgaben Woche 1 - Grundlagen\n",
    "\n",
    "In diesem Übungsblatt befinden sich Aufgaben, mit denen du die Konzepte der ersten Woche üben kannst. \n",
    "\n",
    "Viel Erfolg!\n"
   ]
  },
  {
   "cell_type": "markdown",
   "id": "3ce6d4bb",
   "metadata": {},
   "source": [
    "# Inhaltsverzeichnis \n",
    "\n",
    "- **Übungen Woche 1**\n",
    "    - **Aufgabe 1: Arithmetisches Mittel**\n",
    "    - **Aufgabe 2: Tage in Sekunden umrechnen**\n",
    "    - **Aufgabe 3: Dollar in Euro umrechnen**\n",
    "    - **Aufgabe 4: Eulersche Zahl**\n",
    "    - **Aufgabe 5: Zahlen addieren**\n",
    "    - **Aufgabe 6: Berechnung der Kreisfläche**\n",
    "    - **Aufgabe 7: Ausgabe**\n",
    "    - **Aufgabe 8: Variablen vertauschen**\n"
   ]
  },
  {
   "cell_type": "markdown",
   "id": "031266ce",
   "metadata": {},
   "source": [
    "## Aufgabe 1: Arithmetisches Mittel\n",
    "\n",
    "- Entwickle ein Programm, das zwei Zahlen als Eingabe anfordert und das arithmetische Mittel dieser Zahlen ausgibt.\n",
    "- Der arithmetische Mittelwert zweier Zahlen `a` und `b` ist definiert als\n",
    "\n",
    "\\begin{align}\n",
    "\\frac{a + b}{2} \n",
    "\\end{align}.\n",
    "\n",
    "> <span style=\"color:green\">**_ERINNERUNG:_**</span> Stelle sicher, dass die Eingaben mit `int()` in Zahlen konvertiert werden!\n"
   ]
  },
  {
   "cell_type": "code",
   "execution_count": null,
   "id": "6a756c42",
   "metadata": {},
   "outputs": [],
   "source": [
    "# Schreibe deinen Code hier\n",
    "\n"
   ]
  },
  {
   "cell_type": "markdown",
   "id": "78932044",
   "metadata": {},
   "source": [
    "## Aufgabe 2: Tage in Sekunden umrechnen\n",
    "\n",
    "- Entwickle ein Programm, das eine Anzahl von Tagen als Eingabe anfordert. <br>Drucke die entsprechende Dauer in Sekunden unterhalb dieser Eingabezelle im Ausgabebereich aus."
   ]
  },
  {
   "cell_type": "code",
   "execution_count": null,
   "id": "15d12fff",
   "metadata": {},
   "outputs": [],
   "source": [
    "# Schreibe deinen Code hier\n",
    "\n"
   ]
  },
  {
   "cell_type": "markdown",
   "id": "1b2bd39a",
   "metadata": {},
   "source": [
    "## Aufgabe 3: Dollar in Euro umrechnen\n",
    "\n",
    "- Entwickle ein Programm, das nach einem Betrag in Dollar fragt und diesen Betrag in Euro umrechnet und ausgibt.\n",
    "- Der Umrechnungskurs lautet:\n",
    "\\$ 1.00 = € 0.92\n",
    "\n",
    "> <span style=\"color:green\">**_ERINNERUNG:_**</span> Stelle sicher, dass die Eingabe mit `float()` in eine Gleitkommazahl konvertiert wird!\n"
   ]
  },
  {
   "cell_type": "code",
   "execution_count": null,
   "id": "9d523ba6",
   "metadata": {},
   "outputs": [],
   "source": [
    "# Schreibe deinen Code hier\n",
    "\n"
   ]
  },
  {
   "cell_type": "markdown",
   "id": "1b793e61",
   "metadata": {},
   "source": [
    "## Aufgabe 4: Eulersche Zahl\n",
    "\n",
    " - Die [**eulersche Zahl**](https://de.wikipedia.org/wiki/Eulersche_Zahl) ist eine wichtige Konstante in der Mathematik (und Natur). <br>Sie wird mit $e$ abgekürzt und ihr Wert ist $e = 2,71828182...$.\n",
    "\n",
    "- Eine mögliche Art $e$ zu berechnen ist über die Formel\n",
    "$$\n",
    "e = \\lim_{t\\rightarrow\\infty}(1+\\frac{1}{t})^t\n",
    "$$\n",
    "\n",
    "- Wir wollen uns nun das Ergebnis für unterschiedliche Werte von $t$ anschauen.\n",
    "\n",
    "- Schreibe ein Programm, welches dir die folgenden Zahlen $A,B$ und $C$ berechnet:\n",
    "\n",
    "$$\n",
    "A = (1+\\frac{1}{200})^{200} \\\\\n",
    "B = (1+\\frac{1}{500})^{500} \\\\\n",
    "C = (1+\\frac{1}{1000})^{1000} \\\\\n",
    "$$"
   ]
  },
  {
   "cell_type": "code",
   "execution_count": null,
   "id": "488e3842",
   "metadata": {},
   "outputs": [],
   "source": [
    "# Schreibe deinen Code hier\n",
    "\n"
   ]
  },
  {
   "cell_type": "markdown",
   "id": "898f4ddf",
   "metadata": {},
   "source": [
    "## Aufgabe 5: Zahlen addieren\n",
    "\n",
    "- Entwickle ein Programm, das zwei Zahlen als Eingabe anfordert.\n",
    "- Addiere diese Zahlen und gib das Ergebnis mit einer erläuternden Nachricht aus.\n"
   ]
  },
  {
   "cell_type": "code",
   "execution_count": null,
   "id": "0e5d40fe",
   "metadata": {},
   "outputs": [],
   "source": [
    "# Schreibe deinen Code hier\n",
    "\n"
   ]
  },
  {
   "cell_type": "markdown",
   "id": "de9a8184",
   "metadata": {},
   "source": [
    "## Aufgabe 6: Berechnung der Kreisfläche\n",
    "\n",
    "- Entwickle ein Programm, das den Radius eines Kreises als Eingabe anfordert. <br>Berechne anschließend die [Fläche des Kreises](https://de.wikipedia.org/wiki/Kreis#Kreisfl%C3%A4che) mit diesem Radius und gib das Ergebnis direkt unterhalb der Eingabezelle aus.\n",
    "- Für die Berechnung haben wir die Konstante `pi` aus der math-Bibliothek bereits für dich importiert. Die Verwendung von `math.pi` ermöglicht eine präzisere Berechnung im Vergleich zur Verwendung einer abgerundeten Näherung von Pi. Du wirst später im Kurs lernen, wie du selbst Zusatzfunktionalitäten in Python freischaltest und nutzt."
   ]
  },
  {
   "cell_type": "code",
   "execution_count": null,
   "id": "c4508e13",
   "metadata": {},
   "outputs": [],
   "source": [
    "# Lasse diese Zelle unverändert, aber führe sie aus\n",
    "from math import pi"
   ]
  },
  {
   "cell_type": "code",
   "execution_count": null,
   "id": "b1b2ed76",
   "metadata": {},
   "outputs": [],
   "source": [
    "# Schreibe deinen Code hier\n",
    "\n"
   ]
  },
  {
   "cell_type": "markdown",
   "id": "5b374893",
   "metadata": {},
   "source": [
    "## Aufgabe 7: Ausgabe \n",
    "\n",
    "- Die Variablen `x = 4` und `y = 3` seien gegeben. \n",
    "- Erzeuge mit diesen Variablen folgende Ausgabe: \n",
    "\n",
    "> `4 + 3 = 7`\n",
    "\n",
    "- Hier sollst du nicht nur das Ergebnis anzeigen lassen, sondern 1 zu 1 die **Ausgabe** reproduzieren. "
   ]
  },
  {
   "cell_type": "code",
   "execution_count": null,
   "id": "20b578d6",
   "metadata": {},
   "outputs": [],
   "source": [
    "# Lasse diese Zelle unverändert, aber führe sie aus\n",
    "x = 4\n",
    "y = 3"
   ]
  },
  {
   "cell_type": "code",
   "execution_count": null,
   "id": "f72bb9ef",
   "metadata": {},
   "outputs": [],
   "source": [
    "# Schreibe deinen Code hier\n",
    "\n"
   ]
  },
  {
   "cell_type": "markdown",
   "id": "d360cdce",
   "metadata": {},
   "source": [
    "## Aufgabe 8: Variablen vertauschen\n",
    "\n",
    "Schreibe ein Programm, das die Werte der Variablen `x` und `y` vertauscht.\n",
    "\n",
    "- Initialisiere zwei Variablen `x` und `y`. \n",
    "- `x` soll hierbei den Wert `5` und `y` den Wert `6` erhalten.\n",
    "- Schreibe einen Algorithmus, der die Werte der Variablen vertauscht, ohne direkte Zuweisungen wie z.B. `x = 6` oder `y = 5` zu verwenden.\n",
    "- Gib die Werte der Variablen vor und nach dem Vertauschen mittels `print()` aus.\n",
    "\n",
    "> <span style=\"color:green\"> **_HINWEIS:_** </span> In Python ist dies in nur einer Zeile ohne Erstellung einer Hilfsvariablen möglich. Andere Lösungswege sind aber auch in Ordnung."
   ]
  },
  {
   "cell_type": "code",
   "execution_count": null,
   "id": "9a30a824",
   "metadata": {},
   "outputs": [],
   "source": [
    "# Schreibe deinen Code hier\n",
    "\n"
   ]
  }
 ],
 "metadata": {
  "kernelspec": {
   "display_name": "Python 3 (ipykernel)",
   "language": "python",
   "name": "python3"
  },
  "language_info": {
   "codemirror_mode": {
    "name": "ipython",
    "version": 3
   },
   "file_extension": ".py",
   "mimetype": "text/x-python",
   "name": "python",
   "nbconvert_exporter": "python",
   "pygments_lexer": "ipython3",
   "version": "3.13.0"
  }
 },
 "nbformat": 4,
 "nbformat_minor": 5
}
